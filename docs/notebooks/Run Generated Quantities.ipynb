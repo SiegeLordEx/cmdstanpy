{
 "cells": [
  {
   "cell_type": "markdown",
   "metadata": {},
   "source": [
    "#  Generating new quantities of interest given a existing model, data, and sample.\n",
    "\n",
    "\n",
    "A Stan program is structured into named program blocks, all of which are optional, but which must occur in the following order:\n",
    "  + functions\n",
    "  + data\n",
    "  + transformed data\n",
    "  + parameters\n",
    "  + transformed parameters\n",
    "  + model\n",
    "  + generated quantities\n",
    "  \n",
    "The [generated quantities](https://mc-stan.org/docs/2_19/reference-manual/program-block-generated-quantities.html) block computes quantities of interest based on the data, transformed data, parameters, and transformed parameters.  It allows us to:\n",
    "\n",
    "  + generate simulated data for model testing by forward sampling\n",
    "  + generate predictions for new data\n",
    "  + calculate posterior event probabilities, including multiple comparisons, sign tests, etc.\n",
    "  + calculating posterior expectations\n",
    "  + transform parameters for reporting\n",
    "  + apply full Bayesian decision theory\n",
    "  + calculate log likelihoods, deviances, etc. for model comparison\n",
    "\n",
    "If we have already obtained a sample from a model conditioned on a dataset and are satisfied with the model and the fit of the sample, but would like to compute new quantities of interest, the `run_generated_quantities` method allows us to do so without the expense of re-running the sampler.  Instead it takes the existing sample, and for each draw in the drawset, runs the generated quantities block of the program using the per-draw parameter estimates to compute the quantities of interest.\n",
    "\n"
   ]
  },
  {
   "cell_type": "markdown",
   "metadata": {},
   "source": [
    "## Example:  add posterior predictive checks to `bernoulli.stan`\n",
    "\n",
    "\n",
    "In this example we use the CmdStan example model [bernoulli.stan](https://github.com/stan-dev/cmdstanpy/blob/master/test/data/bernoulli.stan)\n",
    "and data file [bernoulli.data.json](https://github.com/stan-dev/cmdstanpy/blob/master/test/data/bernoulli.data.json) as our existing model and data.\n",
    "\n",
    "We instantiate the model `bernoulli`,\n",
    "as in the \"Hello World\" section\n",
    "of the CmdStanPy [tutorial](../../cmdstanpy_tutorial.ipynb) notebook."
   ]
  },
  {
   "cell_type": "code",
   "execution_count": null,
   "metadata": {},
   "outputs": [],
   "source": [
    "import os\n",
    "from cmdstanpy import Model, cmdstan_path\n",
    "\n",
    "bernoulli_dir = os.path.join(cmdstan_path(), 'examples', 'bernoulli')\n",
    "bernoulli_path = os.path.join(bernoulli_dir, 'bernoulli.stan')\n",
    "\n",
    "# instantiate bernoulli model, compile Stan program\n",
    "bernoulli_model = Model(stan_file=bernoulli_path)\n",
    "bernoulli_model.compile()\n",
    "print(bernoulli_model.code())"
   ]
  },
  {
   "cell_type": "markdown",
   "metadata": {},
   "source": [
    "We create program [bernoulli_ppc.stan](https://github.com/stan-dev/cmdstanpy/blob/master/test/data/bernoulli_ppc.stan)\n",
    "by adding a `generated quantities` block which generates a new data vector `y_rep` using the current estimate of theta."
   ]
  },
  {
   "cell_type": "code",
   "execution_count": null,
   "metadata": {},
   "outputs": [],
   "source": [
    "bernoulli_ppc_model = Model(stan_file='bernoulli_ppc.stan')\n",
    "bernoulli_ppc_model.compile()\n",
    "print(bernoulli_ppc_model.code())"
   ]
  },
  {
   "cell_type": "markdown",
   "metadata": {},
   "source": [
    "As in the \"Hello World\" tutorial, we produce a sample from the posterior of the model conditioned on the data:"
   ]
  },
  {
   "cell_type": "code",
   "execution_count": null,
   "metadata": {},
   "outputs": [],
   "source": [
    "# fit the model to the data\n",
    "bern_data = os.path.join(bernoulli_dir, 'bernoulli.data.json')\n",
    "bern_fit = bernoulli_model.sample(data=bern_data)"
   ]
  },
  {
   "cell_type": "markdown",
   "metadata": {},
   "source": [
    "The input data consists of `N` - the number of bernoulli trials and `y` - the list of observed outcomes."
   ]
  },
  {
   "cell_type": "code",
   "execution_count": null,
   "metadata": {},
   "outputs": [],
   "source": [
    "import ujson\n",
    "import statistics\n",
    "with open(bern_data,'r') as fp:\n",
    "    data_dict = json.load(fp)\n",
    "print(data_dict)\n",
    "statistics.mean(data_dict['y'])"
   ]
  },
  {
   "cell_type": "markdown",
   "metadata": {},
   "source": [
    "The arguments to the `run_generated_quantities` method are:\n",
    " + the data used to fit the model  (`bern_data`)\n",
    " + the list of the resulting stan csv files (`bern_fit.csv_files`)"
   ]
  },
  {
   "cell_type": "code",
   "execution_count": null,
   "metadata": {},
   "outputs": [],
   "source": [
    "new_quantities = bernoulli_ppc_model.run_generated_quantities(data=bern_data, csv_files=bern_fit.csv_files)"
   ]
  },
  {
   "cell_type": "markdown",
   "metadata": {},
   "source": [
    "The ``StanQuantities`` object contains the values for all variables in the generated quantitites block of the program ``bernoulli_ppc.stan``.  Unlike the output from the ``sample`` method, it doesn't contain any information on the joint log probability density, sampler state, or parameters or transformed parameter values."
   ]
  },
  {
   "cell_type": "code",
   "execution_count": null,
   "metadata": {},
   "outputs": [],
   "source": [
    "new_quantities.column_names"
   ]
  },
  {
   "cell_type": "code",
   "execution_count": null,
   "metadata": {},
   "outputs": [],
   "source": [
    "new_quantities.generated_quantities.shape"
   ]
  },
  {
   "cell_type": "code",
   "execution_count": null,
   "metadata": {},
   "outputs": [],
   "source": [
    "for i in range(len(new_quantities.column_names)):\n",
    "    print(new_quantities.generated_quantities[:,i].mean())\n"
   ]
  }
 ],
 "metadata": {
  "kernelspec": {
   "display_name": "Python 3",
   "language": "python",
   "name": "python3"
  },
  "language_info": {
   "codemirror_mode": {
    "name": "ipython",
    "version": 3
   },
   "file_extension": ".py",
   "mimetype": "text/x-python",
   "name": "python",
   "nbconvert_exporter": "python",
   "pygments_lexer": "ipython3",
   "version": "3.7.0"
  }
 },
 "nbformat": 4,
 "nbformat_minor": 2
}
